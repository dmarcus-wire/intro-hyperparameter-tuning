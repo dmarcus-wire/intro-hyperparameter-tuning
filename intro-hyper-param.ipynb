{
 "cells": [
  {
   "cell_type": "markdown",
   "metadata": {
    "collapsed": true,
    "pycharm": {
     "name": "#%% md\n"
    }
   },
   "source": [
    "Intro to hyperparameter tuning"
   ]
  },
  {
   "cell_type": "code",
   "execution_count": 10,
   "outputs": [],
   "source": [
    "# import the necessary packages\n",
    "from sklearn.model_selection import RandomizedSearchCV\n",
    "from sklearn.model_selection import RepeatedKFold\n",
    "from sklearn.model_selection import GridSearchCV\n",
    "from sklearn.preprocessing import StandardScaler\n",
    "from sklearn.model_selection import train_test_split\n",
    "from sklearn.utils.fixes import loguniform\n",
    "from sklearn.svm import SVR\n",
    "import pandas as pd"
   ],
   "metadata": {
    "collapsed": false,
    "pycharm": {
     "name": "#%%\n"
    }
   }
  },
  {
   "cell_type": "markdown",
   "source": [
    "Create config class"
   ],
   "metadata": {
    "collapsed": false
   }
  },
  {
   "cell_type": "code",
   "source": [
    "class Config:\n",
    "    # specify path to dataset\n",
    "    CSV_PATH = \"dataset/abalone_train.csv\"\n",
    "\n",
    "    # specify column names of dataframe\n",
    "    COLS = [\"Length\",\"Diameter\",\"Height\",\"Whole weight\",\n",
    "            \"Shucked weight\",\"Viscera weight\",\"Shell weight\",\"Age\"]\n",
    "\n",
    "    # instantiate objects of the config class\n",
    "config = Config()"
   ],
   "metadata": {
    "collapsed": false,
    "pycharm": {
     "name": "#%%\n"
    }
   },
   "execution_count": 2,
   "outputs": []
  },
  {
   "cell_type": "markdown",
   "source": [
    "Load dataset, separate features/labels"
   ],
   "metadata": {
    "collapsed": false
   }
  },
  {
   "cell_type": "code",
   "execution_count": 3,
   "outputs": [
    {
     "name": "stdout",
     "output_type": "stream",
     "text": [
      "[INFO] loading data...\n"
     ]
    }
   ],
   "source": [
    "print(\"[INFO] loading data...\")\n",
    "dataset = pd.read_csv(config.CSV_PATH, names=config.COLS)\n",
    "dataX = dataset[dataset.columns[:-1]]\n",
    "dataY = dataset[dataset.columns[-1]]"
   ],
   "metadata": {
    "collapsed": false,
    "pycharm": {
     "name": "#%%\n"
    }
   }
  },
  {
   "cell_type": "markdown",
   "source": [
    "Split train / test"
   ],
   "metadata": {
    "collapsed": false
   }
  },
  {
   "cell_type": "code",
   "execution_count": 4,
   "outputs": [],
   "source": [
    "(trainX, testX, trainY, testY) = train_test_split(dataX,\n",
    "\tdataY, random_state=3, test_size=0.15)"
   ],
   "metadata": {
    "collapsed": false,
    "pycharm": {
     "name": "#%%\n"
    }
   }
  },
  {
   "cell_type": "markdown",
   "source": [
    "Standardize the feature values computing the mean"
   ],
   "metadata": {
    "collapsed": false
   }
  },
  {
   "cell_type": "code",
   "execution_count": 5,
   "outputs": [],
   "source": [
    "scaler = StandardScaler()\n",
    "trainX = scaler.fit_transform(trainX)\n",
    "testX = scaler.transform(testX)"
   ],
   "metadata": {
    "collapsed": false,
    "pycharm": {
     "name": "#%%\n"
    }
   }
  },
  {
   "cell_type": "markdown",
   "source": [
    "Train without hyperparameters and eval"
   ],
   "metadata": {
    "collapsed": false
   }
  },
  {
   "cell_type": "code",
   "execution_count": 6,
   "outputs": [
    {
     "name": "stdout",
     "output_type": "stream",
     "text": [
      "[INFO] training our support vector regression model\n",
      "[INFO] evaluating...\n",
      "R2: 0.55\n"
     ]
    }
   ],
   "source": [
    "# train the model with *no* hyperparameter tuning\n",
    "print(\"[INFO] training our support vector regression model\")\n",
    "model = SVR()\n",
    "model.fit(trainX, trainY)\n",
    "\n",
    "# evaluate our model using R^2-score (1.0 is the best value)\n",
    "print(\"[INFO] evaluating...\")\n",
    "print(\"R2: {:.2f}\".format(model.score(testX, testY)))"
   ],
   "metadata": {
    "collapsed": false,
    "pycharm": {
     "name": "#%%\n"
    }
   }
  },
  {
   "cell_type": "markdown",
   "source": [
    "Tune with grid search"
   ],
   "metadata": {
    "collapsed": false
   }
  },
  {
   "cell_type": "code",
   "execution_count": 7,
   "outputs": [],
   "source": [
    "# initialize model and define the space of the hyperparameters to\n",
    "# perform the grid-search over\n",
    "model = SVR()\n",
    "kernel = [\"linear\", \"rbf\", \"sigmoid\", \"poly\"]\n",
    "tolerance = [1e-3, 1e-4, 1e-5, 1e-6]\n",
    "C = [1, 1.5, 2, 2.5, 3]\n",
    "grid = dict(kernel=kernel, tol=tolerance, C=C)"
   ],
   "metadata": {
    "collapsed": false,
    "pycharm": {
     "name": "#%%\n"
    }
   }
  },
  {
   "cell_type": "code",
   "execution_count": 8,
   "outputs": [
    {
     "name": "stdout",
     "output_type": "stream",
     "text": [
      "[INFO] grid searching over the hyperparameters...\n",
      "[INFO] evaluating...\n",
      "R2: 0.56\n"
     ]
    }
   ],
   "source": [
    "# initialize a cross-validation fold and perform a grid-search to\n",
    "# tune the hyperparameters\n",
    "print(\"[INFO] grid searching over the hyperparameters...\")\n",
    "cvFold = RepeatedKFold(n_splits=10, n_repeats=3, random_state=1)\n",
    "gridSearch = GridSearchCV(estimator=model, param_grid=grid, n_jobs=-1,\n",
    "\tcv=cvFold, scoring=\"neg_mean_squared_error\")\n",
    "searchResults = gridSearch.fit(trainX, trainY)\n",
    "\n",
    "# extract the best model and evaluate it\n",
    "print(\"[INFO] evaluating...\")\n",
    "bestModel = searchResults.best_estimator_\n",
    "print(\"R2: {:.2f}\".format(bestModel.score(testX, testY)))"
   ],
   "metadata": {
    "collapsed": false,
    "pycharm": {
     "name": "#%%\n"
    }
   }
  },
  {
   "cell_type": "markdown",
   "source": [
    "Tune with randomized search"
   ],
   "metadata": {
    "collapsed": false
   }
  },
  {
   "cell_type": "code",
   "execution_count": 11,
   "outputs": [],
   "source": [
    "# initialize model and define the space of the hyperparameters to\n",
    "# perform the randomized-search over\n",
    "model = SVR()\n",
    "kernel = [\"linear\", \"rbf\", \"sigmoid\", \"poly\"]\n",
    "tolerance = loguniform(1e-6, 1e-3)\n",
    "C = [1, 1.5, 2, 2.5, 3]\n",
    "grid = dict(kernel=kernel, tol=tolerance, C=C)"
   ],
   "metadata": {
    "collapsed": false,
    "pycharm": {
     "name": "#%%\n"
    }
   }
  },
  {
   "cell_type": "markdown",
   "source": [
    "Cross validation folder"
   ],
   "metadata": {
    "collapsed": false
   }
  },
  {
   "cell_type": "code",
   "execution_count": 12,
   "outputs": [
    {
     "name": "stdout",
     "output_type": "stream",
     "text": [
      "[INFO] grid searching over the hyperparameters...\n",
      "[INFO] evaluating...\n",
      "R2: 0.56\n"
     ]
    }
   ],
   "source": [
    "# initialize a cross-validation fold and perform a randomized-search\n",
    "# to tune the hyperparameters\n",
    "print(\"[INFO] grid searching over the hyperparameters...\")\n",
    "cvFold = RepeatedKFold(n_splits=10, n_repeats=3, random_state=1)\n",
    "randomSearch = RandomizedSearchCV(estimator=model, n_jobs=-1,\n",
    "\tcv=cvFold, param_distributions=grid,\n",
    "\tscoring=\"neg_mean_squared_error\")\n",
    "searchResults = randomSearch.fit(trainX, trainY)\n",
    "\n",
    "# extract the best model and evaluate it\n",
    "print(\"[INFO] evaluating...\")\n",
    "bestModel = searchResults.best_estimator_\n",
    "print(\"R2: {:.2f}\".format(bestModel.score(testX, testY)))"
   ],
   "metadata": {
    "collapsed": false,
    "pycharm": {
     "name": "#%%\n"
    }
   }
  },
  {
   "cell_type": "code",
   "execution_count": null,
   "outputs": [],
   "source": [],
   "metadata": {
    "collapsed": false,
    "pycharm": {
     "name": "#%%\n"
    }
   }
  }
 ],
 "metadata": {
  "kernelspec": {
   "display_name": "Python 3",
   "language": "python",
   "name": "python3"
  },
  "language_info": {
   "codemirror_mode": {
    "name": "ipython",
    "version": 2
   },
   "file_extension": ".py",
   "mimetype": "text/x-python",
   "name": "python",
   "nbconvert_exporter": "python",
   "pygments_lexer": "ipython2",
   "version": "2.7.6"
  }
 },
 "nbformat": 4,
 "nbformat_minor": 0
}